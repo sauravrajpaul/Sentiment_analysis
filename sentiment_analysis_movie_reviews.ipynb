{
 "cells": [
  {
   "cell_type": "markdown",
   "id": "05e7ab80",
   "metadata": {},
   "source": [
    "# Project Introduction\n",
    "\n",
    "This project develops a machine learning model for sentiment analysis on movie reviews, aiming to classify reviews as positive or negative. The workflow includes:\n",
    "- Data collection (real-world datasets like IMDb or Rotten Tomatoes)\n",
    "- Text preprocessing (cleaning, normalization)\n",
    "- Model training (Naive Bayes, easily extendable to Logistic Regression/SVM)\n",
    "- Evaluation (accuracy, classification report)\n",
    "- Prediction on new reviews\n",
    "\n",
    "---\n",
    "# Sentiment Analysis on Movie Reviews\n",
    "\n",
    "This notebook demonstrates how to perform sentiment analysis on movie reviews using Python. We use a dataset of movie reviews, preprocess the text, train a sentiment analysis model, and test it on sample reviews."
   ]
  },
  {
   "cell_type": "markdown",
   "id": "188d2abd",
   "metadata": {},
   "source": [
    "## 1. Import Required Libraries\n",
    "\n",
    "Let's import the necessary libraries for data processing, visualization, and machine learning."
   ]
  },
  {
   "cell_type": "code",
   "execution_count": 1,
   "id": "e0f07069",
   "metadata": {},
   "outputs": [],
   "source": [
    "import numpy as np\n",
    "import pandas as pd\n",
    "import matplotlib.pyplot as plt\n",
    "import seaborn as sns\n",
    "from sklearn.model_selection import train_test_split\n",
    "from sklearn.metrics import classification_report, confusion_matrix, accuracy_score\n",
    "import re\n",
    "from sklearn.feature_extraction.text import ENGLISH_STOP_WORDS"
   ]
  },
  {
   "cell_type": "markdown",
   "id": "9a1a14b7",
   "metadata": {},
   "source": [
    "## 2. Load Real-World Movie Reviews Data\n",
    "\n",
    "To use real-world data, download a dataset (e.g., IMDb, Rotten Tomatoes, or Kaggle) and place the CSV file in your project directory. The file should have columns like 'review' and 'sentiment'.\n",
    "\n",
    "Uncomment and edit the code in the next cell to load your real dataset. If your column names are different, update the rest of the notebook accordingly."
   ]
  },
  {
   "cell_type": "code",
   "execution_count": 2,
   "id": "15116851",
   "metadata": {},
   "outputs": [
    {
     "data": {
      "text/html": [
       "<div>\n",
       "<style scoped>\n",
       "    .dataframe tbody tr th:only-of-type {\n",
       "        vertical-align: middle;\n",
       "    }\n",
       "\n",
       "    .dataframe tbody tr th {\n",
       "        vertical-align: top;\n",
       "    }\n",
       "\n",
       "    .dataframe thead th {\n",
       "        text-align: right;\n",
       "    }\n",
       "</style>\n",
       "<table border=\"1\" class=\"dataframe\">\n",
       "  <thead>\n",
       "    <tr style=\"text-align: right;\">\n",
       "      <th></th>\n",
       "      <th>review</th>\n",
       "      <th>sentiment</th>\n",
       "    </tr>\n",
       "  </thead>\n",
       "  <tbody>\n",
       "    <tr>\n",
       "      <th>0</th>\n",
       "      <td>Bromwell High is a cartoon comedy. It ran at t...</td>\n",
       "      <td>1</td>\n",
       "    </tr>\n",
       "    <tr>\n",
       "      <th>1</th>\n",
       "      <td>Homelessness (or Houselessness as George Carli...</td>\n",
       "      <td>1</td>\n",
       "    </tr>\n",
       "    <tr>\n",
       "      <th>2</th>\n",
       "      <td>Brilliant over-acting by Lesley Ann Warren. Be...</td>\n",
       "      <td>1</td>\n",
       "    </tr>\n",
       "    <tr>\n",
       "      <th>3</th>\n",
       "      <td>This is easily the most underrated film inn th...</td>\n",
       "      <td>1</td>\n",
       "    </tr>\n",
       "    <tr>\n",
       "      <th>4</th>\n",
       "      <td>This is not the typical Mel Brooks film. It wa...</td>\n",
       "      <td>1</td>\n",
       "    </tr>\n",
       "  </tbody>\n",
       "</table>\n",
       "</div>"
      ],
      "text/plain": [
       "                                              review  sentiment\n",
       "0  Bromwell High is a cartoon comedy. It ran at t...          1\n",
       "1  Homelessness (or Houselessness as George Carli...          1\n",
       "2  Brilliant over-acting by Lesley Ann Warren. Be...          1\n",
       "3  This is easily the most underrated film inn th...          1\n",
       "4  This is not the typical Mel Brooks film. It wa...          1"
      ]
     },
     "execution_count": 2,
     "metadata": {},
     "output_type": "execute_result"
    }
   ],
   "source": [
    "# Load real-world IMDB data from aclImdb folder\n",
    "import os\n",
    "import glob\n",
    "\n",
    "def load_imdb_data(data_dir):\n",
    "    reviews = []\n",
    "    sentiments = []\n",
    "    for sentiment in ['pos', 'neg']:\n",
    "        path = os.path.join(data_dir, sentiment, '*.txt')\n",
    "        for filename in glob.glob(path):\n",
    "            with open(filename, encoding='utf-8') as f:\n",
    "                reviews.append(f.read())\n",
    "                sentiments.append(1 if sentiment == 'pos' else 0)\n",
    "    return pd.DataFrame({'review': reviews, 'sentiment': sentiments})\n",
    "\n",
    "# Use train and test sets for full workflow\n",
    "train_dir = r'aclImdb/train'\n",
    "test_dir = r'aclImdb/test'\n",
    "train_df = load_imdb_data(train_dir)\n",
    "test_df = load_imdb_data(test_dir)\n",
    "\n",
    "# Combine for EDA, or use separately for modeling\n",
    "# For EDA, you can use train_df\n",
    "# For modeling, use train_df for training and test_df for testing\n",
    "\n",
    "df = train_df  # For EDA and preprocessing\n",
    "\n",
    "df.head()"
   ]
  },
  {
   "cell_type": "markdown",
   "id": "be88cac1",
   "metadata": {},
   "source": [
    "## 3. Line Plot\n",
    "\n",
    "Let's visualize the distribution of sentiments in our sample data using a line plot."
   ]
  },
  {
   "cell_type": "code",
   "execution_count": 9,
   "id": "6df67e73",
   "metadata": {},
   "outputs": [
    {
     "data": {
      "text/plain": [
       "sentiment\n",
       "1    12500\n",
       "0    12500\n",
       "Name: count, dtype: int64"
      ]
     },
     "execution_count": 9,
     "metadata": {},
     "output_type": "execute_result"
    }
   ],
   "source": [
    "df['sentiment'].value_counts()"
   ]
  },
  {
   "cell_type": "code",
   "execution_count": 10,
   "id": "5810b73b",
   "metadata": {},
   "outputs": [
    {
     "data": {
      "text/plain": [
       "sentiment\n",
       "0    12500\n",
       "1    12500\n",
       "Name: count, dtype: int64"
      ]
     },
     "execution_count": 10,
     "metadata": {},
     "output_type": "execute_result"
    }
   ],
   "source": [
    "df['sentiment'].value_counts().sort_index()"
   ]
  },
  {
   "cell_type": "code",
   "execution_count": 3,
   "id": "9b68acdb",
   "metadata": {},
   "outputs": [
    {
     "name": "stdout",
     "output_type": "stream",
     "text": [
      "Number of reviews loaded: 25000\n",
      "sentiment\n",
      "1    12500\n",
      "0    12500\n",
      "Name: count, dtype: int64\n"
     ]
    },
    {
     "data": {
      "image/png": "[encoded data removed]",
      "text/plain": [
       "<Figure size 600x400 with 1 Axes>"
      ]
     },
     "metadata": {},
     "output_type": "display_data"
    }
   ],
   "source": [
    "sentiment_counts = df['sentiment'].value_counts().sort_index()\n",
    "print(\"Number of reviews loaded:\", len(df))\n",
    "print(df['sentiment'].value_counts())\n",
    "sentiment_counts = df['sentiment'].value_counts().sort_index()\n",
    "if not sentiment_counts.empty:\n",
    "    plt.figure(figsize=(6,4))\n",
    "    plt.plot(['Negative', 'Positive'], sentiment_counts, marker='o')\n",
    "    plt.title('Sentiment Distribution')\n",
    "    plt.xlabel('Sentiment')\n",
    "    plt.ylabel('Count')\n",
    "    plt.grid(True)\n",
    "    plt.show()\n",
    "else:\n",
    "    print(\"No sentiment data available for plotting.\")"
   ]
  },
  {
   "cell_type": "markdown",
   "id": "f8a022a0",
   "metadata": {},
   "source": [
    "## 4. Bar Chart\n",
    "\n",
    "Now, let's visualize the sentiment distribution using a bar chart."
   ]
  },
  {
   "cell_type": "code",
   "execution_count": 4,
   "id": "41403661",
   "metadata": {},
   "outputs": [
    {
     "data": {
      "image/png": "[encoded data removed]",
      "text/plain": [
       "<Figure size 600x400 with 1 Axes>"
      ]
     },
     "metadata": {},
     "output_type": "display_data"
    }
   ],
   "source": [
    "plt.figure(figsize=(6,4))\n",
    "sns.barplot(x=['Negative', 'Positive'], y=sentiment_counts.values)\n",
    "plt.title('Sentiment Distribution (Bar Chart)')\n",
    "plt.xlabel('Sentiment')\n",
    "plt.ylabel('Count')\n",
    "plt.show()"
   ]
  },
  {
   "cell_type": "markdown",
   "id": "7c2d53ee",
   "metadata": {},
   "source": [
    "## 5. Scatter Plot\n",
    "\n",
    "Let's create a scatter plot to visualize the length of each review versus its sentiment."
   ]
  },
  {
   "cell_type": "code",
   "execution_count": 12,
   "id": "f7b31533",
   "metadata": {},
   "outputs": [
    {
     "data": {
      "text/plain": [
       "0         806\n",
       "1        2366\n",
       "2         841\n",
       "3         663\n",
       "4         647\n",
       "         ... \n",
       "24995    1567\n",
       "24996     859\n",
       "24997    1688\n",
       "24998    1277\n",
       "24999     746\n",
       "Name: review, Length: 25000, dtype: int64"
      ]
     },
     "execution_count": 12,
     "metadata": {},
     "output_type": "execute_result"
    }
   ],
   "source": [
    "df['review'].apply(len)"
   ]
  },
  {
   "cell_type": "code",
   "execution_count": 5,
   "id": "4f1f60c1",
   "metadata": {},
   "outputs": [
    {
     "data": {
      "image/png": "[encoded data removed]",
      "text/plain": [
       "<Figure size 600x400 with 1 Axes>"
      ]
     },
     "metadata": {},
     "output_type": "display_data"
    }
   ],
   "source": [
    "df['review_length'] = df['review'].apply(len)\n",
    "plt.figure(figsize=(6,4))\n",
    "plt.scatter(df['review_length'], df['sentiment'], alpha=0.7)\n",
    "plt.title('Review Length vs Sentiment')\n",
    "plt.xlabel('Review Length (characters)')\n",
    "plt.ylabel('Sentiment (0=Negative, 1=Positive)')\n",
    "plt.yticks([0, 1], ['Negative', 'Positive'])\n",
    "plt.show()"
   ]
  },
  {
   "cell_type": "code",
   "execution_count": 13,
   "id": "d737e14e",
   "metadata": {},
   "outputs": [
    {
     "data": {
      "text/html": [
       "<div>\n",
       "<style scoped>\n",
       "    .dataframe tbody tr th:only-of-type {\n",
       "        vertical-align: middle;\n",
       "    }\n",
       "\n",
       "    .dataframe tbody tr th {\n",
       "        vertical-align: top;\n",
       "    }\n",
       "\n",
       "    .dataframe thead th {\n",
       "        text-align: right;\n",
       "    }\n",
       "</style>\n",
       "<table border=\"1\" class=\"dataframe\">\n",
       "  <thead>\n",
       "    <tr style=\"text-align: right;\">\n",
       "      <th></th>\n",
       "      <th>review</th>\n",
       "      <th>clean_review</th>\n",
       "    </tr>\n",
       "  </thead>\n",
       "  <tbody>\n",
       "    <tr>\n",
       "      <th>0</th>\n",
       "      <td>Bromwell High is a cartoon comedy. It ran at t...</td>\n",
       "      <td>bromwell high cartoon comedy ran time programs...</td>\n",
       "    </tr>\n",
       "    <tr>\n",
       "      <th>1</th>\n",
       "      <td>Homelessness (or Houselessness as George Carli...</td>\n",
       "      <td>homelessness houselessness george carlin state...</td>\n",
       "    </tr>\n",
       "    <tr>\n",
       "      <th>2</th>\n",
       "      <td>Brilliant over-acting by Lesley Ann Warren. Be...</td>\n",
       "      <td>brilliant overacting lesley ann warren best dr...</td>\n",
       "    </tr>\n",
       "    <tr>\n",
       "      <th>3</th>\n",
       "      <td>This is easily the most underrated film inn th...</td>\n",
       "      <td>easily underrated film inn brooks cannon sure ...</td>\n",
       "    </tr>\n",
       "    <tr>\n",
       "      <th>4</th>\n",
       "      <td>This is not the typical Mel Brooks film. It wa...</td>\n",
       "      <td>typical mel brooks film slapstick movies actua...</td>\n",
       "    </tr>\n",
       "    <tr>\n",
       "      <th>5</th>\n",
       "      <td>This isn't the comedic Robin Williams, nor is ...</td>\n",
       "      <td>isnt comedic robin williams quirkyinsane robin...</td>\n",
       "    </tr>\n",
       "    <tr>\n",
       "      <th>6</th>\n",
       "      <td>Yes its an art... to successfully make a slow ...</td>\n",
       "      <td>yes art successfully make slow paced thrillerb...</td>\n",
       "    </tr>\n",
       "    <tr>\n",
       "      <th>7</th>\n",
       "      <td>In this \"critically acclaimed psychological th...</td>\n",
       "      <td>critically acclaimed psychological thriller ba...</td>\n",
       "    </tr>\n",
       "    <tr>\n",
       "      <th>8</th>\n",
       "      <td>THE NIGHT LISTENER (2006) **1/2 Robin Williams...</td>\n",
       "      <td>night listener robin williams toni collette bo...</td>\n",
       "    </tr>\n",
       "    <tr>\n",
       "      <th>9</th>\n",
       "      <td>You know, Robin Williams, God bless him, is co...</td>\n",
       "      <td>know robin williams god bless constantly shoot...</td>\n",
       "    </tr>\n",
       "  </tbody>\n",
       "</table>\n",
       "</div>"
      ],
      "text/plain": [
       "                                              review  \\\n",
       "0  Bromwell High is a cartoon comedy. It ran at t...   \n",
       "1  Homelessness (or Houselessness as George Carli...   \n",
       "2  Brilliant over-acting by Lesley Ann Warren. Be...   \n",
       "3  This is easily the most underrated film inn th...   \n",
       "4  This is not the typical Mel Brooks film. It wa...   \n",
       "5  This isn't the comedic Robin Williams, nor is ...   \n",
       "6  Yes its an art... to successfully make a slow ...   \n",
       "7  In this \"critically acclaimed psychological th...   \n",
       "8  THE NIGHT LISTENER (2006) **1/2 Robin Williams...   \n",
       "9  You know, Robin Williams, God bless him, is co...   \n",
       "\n",
       "                                        clean_review  \n",
       "0  bromwell high cartoon comedy ran time programs...  \n",
       "1  homelessness houselessness george carlin state...  \n",
       "2  brilliant overacting lesley ann warren best dr...  \n",
       "3  easily underrated film inn brooks cannon sure ...  \n",
       "4  typical mel brooks film slapstick movies actua...  \n",
       "5  isnt comedic robin williams quirkyinsane robin...  \n",
       "6  yes art successfully make slow paced thrillerb...  \n",
       "7  critically acclaimed psychological thriller ba...  \n",
       "8  night listener robin williams toni collette bo...  \n",
       "9  know robin williams god bless constantly shoot...  "
      ]
     },
     "execution_count": 13,
     "metadata": {},
     "output_type": "execute_result"
    }
   ],
   "source": [
    "# Text Preprocessing: Noise Removal and Normalization\n",
    "def preprocess_text(text):\n",
    "    text = text.lower()\n",
    "    text = re.sub(r'[^a-z\\s]', '', text)\n",
    "    words = [word for word in text.split() if word not in ENGLISH_STOP_WORDS]\n",
    "    return ' '.join(words)\n",
    "\n",
    "df['clean_review'] = df['review'].apply(preprocess_text)\n",
    "df[['review', 'clean_review']].head(10)"
   ]
  },
  {
   "cell_type": "markdown",
   "id": "a53e4acf",
   "metadata": {},
   "source": [
    "## 6. Feature Extraction, Model Training, and Evaluation\n",
    "\n",
    "Now, let's split the data, extract features, train a Naive Bayes classifier, and evaluate its performance."
   ]
  },
  {
   "cell_type": "code",
   "execution_count": null,
   "id": "b357e472",
   "metadata": {},
   "outputs": [
    {
     "name": "stdout",
     "output_type": "stream",
     "text": [
      "Logistic Regression Results:\n",
      "Accuracy: 0.8822666666666666\n",
      "\n",
      "Classification Report:\n",
      "               precision    recall  f1-score   support\n",
      "\n",
      "           0       0.89      0.87      0.88      3750\n",
      "           1       0.87      0.90      0.88      3750\n",
      "\n",
      "    accuracy                           0.88      7500\n",
      "   macro avg       0.88      0.88      0.88      7500\n",
      "weighted avg       0.88      0.88      0.88      7500\n",
      "\n",
      "Confusion Matrix:\n",
      " [[3259  491]\n",
      " [ 392 3358]]\n"
     ]
    }
   ],
   "source": [
    "## 6. Feature Extraction, Model Training, and Evaluation (Improved)\n",
    "\n",
    "from sklearn.feature_extraction.text import TfidfVectorizer\n",
    "from sklearn.linear_model import LogisticRegression\n",
    "\n",
    "# Use the cleaned reviews for modeling\n",
    "X = df['clean_review']\n",
    "y = df['sentiment']\n",
    "\n",
    "# Train-test split\n",
    "X_train, X_test, y_train, y_test = train_test_split(\n",
    "    X, y, test_size=0.3, random_state=42, stratify=y\n",
    ")\n",
    "\n",
    "# TF-IDF with unigrams + bigrams\n",
    "vectorizer = TfidfVectorizer(\n",
    "    stop_words='english',\n",
    "    ngram_range=(1,2),     # unigrams + bigrams\n",
    "    max_features=20000     # cap features for efficiency\n",
    ")\n",
    "X_train_vec = vectorizer.fit_transform(X_train)\n",
    "X_test_vec = vectorizer.transform(X_test)\n",
    "\n",
    "# Try Logistic Regression (strong baseline)\n",
    "log_reg = LogisticRegression(max_iter=2000, C=2, class_weight='balanced')\n",
    "log_reg.fit(X_train_vec, y_train)\n",
    "y_pred = log_reg.predict(X_test_vec)\n",
    "\n",
    "print('Logistic Regression Results:')\n",
    "print('Accuracy:', accuracy_score(y_test, y_pred))\n",
    "print('\\nClassification Report:\\n', classification_report(y_test, y_pred, zero_division=0))\n",
    "print('Confusion Matrix:\\n', confusion_matrix(y_test, y_pred))\n",
    "\n"
   ]
  },
  {
   "cell_type": "markdown",
   "id": "0000ed79",
   "metadata": {},
   "source": [
    "## 7. Predict Sentiment for New Reviews\n",
    "\n",
    "Let's use the trained model to predict the sentiment of new, unseen movie reviews."
   ]
  },
  {
   "cell_type": "code",
   "execution_count": 15,
   "id": "b1c4b127",
   "metadata": {},
   "outputs": [
    {
     "name": "stdout",
     "output_type": "stream",
     "text": [
      "Review: \"This movie was a fantastic experience!\"\n",
      "Predicted Sentiment: Positive\n",
      "\n",
      "Review: \"I didn't like the film, it was boring.\"\n",
      "Predicted Sentiment: Negative\n",
      "\n",
      "Review: \"The acting was great but the story was weak.\"\n",
      "Predicted Sentiment: Positive\n",
      "\n",
      "Review: \"Absolutely loved the visuals and music!\"\n",
      "Predicted Sentiment: Positive\n",
      "\n"
     ]
    }
   ],
   "source": [
    "# Example new reviews\n",
    "new_reviews = [\n",
    "    \"This movie was a fantastic experience!\",\n",
    "    \"I didn't like the film, it was boring.\",\n",
    "    \"The acting was great but the story was weak.\",\n",
    "    \"Absolutely loved the visuals and music!\"\n",
    "]\n",
    "\n",
    "# Transform and predict\n",
    "new_reviews_vec = vectorizer.transform(new_reviews)\n",
    "predictions = log_reg.predict(new_reviews_vec)\n",
    "\n",
    "for review, sentiment in zip(new_reviews, predictions):\n",
    "    print(f'Review: \"{review}\"')\n",
    "    print(f'Predicted Sentiment: {\"Positive\" if sentiment == 1 else \"Negative\"}\\n')"
   ]
  },
  {
   "cell_type": "code",
   "execution_count": null,
   "id": "1e416f04",
   "metadata": {},
   "outputs": [
    {
     "data": {
      "text/plain": [
       "['vectorizer.pkl']"
      ]
     },
     "execution_count": 15,
     "metadata": {},
     "output_type": "execute_result"
    }
   ],
   "source": [
    "import joblib\n",
    "\n",
    "# Save trained model and vectorizer\n",
    "joblib.dump(log_reg, \"sentiment_model.pkl\")       # or svm_model\n",
    "joblib.dump(vectorizer, \"vectorizer.pkl\")\n"
   ]
  },
  {
   "cell_type": "markdown",
   "id": "8a5c0c94",
   "metadata": {},
   "source": [
    "# Project Summary: Sentiment Analysis on Movie Reviews\n",
    "\n",
    "**Objective:**\n",
    "Build a machine learning model to classify movie reviews as positive or negative using natural language processing (NLP) techniques and data visualization.\n",
    "\n",
    "**Key Skills Demonstrated:**\n",
    "- Data preprocessing and feature engineering\n",
    "- Exploratory data analysis and visualization (Matplotlib, Seaborn)\n",
    "- Text vectorization (Bag-of-Words)\n",
    "- Model training and evaluation (Naive Bayes)\n",
    "- Python, pandas, scikit-learn, matplotlib, seaborn\n",
    "\n",
    "**Project Impact:**\n",
    "This project showcases the ability to apply NLP and machine learning to real-world text data, providing actionable insights into customer sentiment for the entertainment industry.\n",
    "\n",
    "---"
   ]
  }
 ],
 "metadata": {
  "kernelspec": {
   "display_name": "Python 3",
   "language": "python",
   "name": "python3"
  },
  "language_info": {
   "codemirror_mode": {
    "name": "ipython",
    "version": 3
   },
   "file_extension": ".py",
   "mimetype": "text/x-python",
   "name": "python",
   "nbconvert_exporter": "python",
   "pygments_lexer": "ipython3",
   "version": "3.11.9"
  }
 },
 "nbformat": 4,
 "nbformat_minor": 5
}
